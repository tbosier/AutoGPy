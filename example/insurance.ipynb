{
 "cells": [
  {
   "cell_type": "markdown",
   "metadata": {},
   "source": [
    "# Load the data"
   ]
  },
  {
   "cell_type": "code",
   "execution_count": 1,
   "metadata": {},
   "outputs": [
    {
     "name": "stderr",
     "output_type": "stream",
     "text": [
      "c:\\Users\\taylo\\Documents\\Work\\study\\test\\AutoGPy\\.venv\\Lib\\site-packages\\tqdm\\auto.py:21: TqdmWarning: IProgress not found. Please update jupyter and ipywidgets. See https://ipywidgets.readthedocs.io/en/stable/user_install.html\n",
      "  from .autonotebook import tqdm as notebook_tqdm\n"
     ]
    }
   ],
   "source": [
    "import sys\n",
    "sys.path.append('..')\n",
    "\n",
    "import pandas as pd\n",
    "import numpy as np\n",
    "from main.AutoGPy import partition_data, SMCStructureLearning, plot_results_with_test, compute_gp_posterior\n",
    "from sklearn.metrics import mean_squared_error\n",
    "\n",
    "df = pd.read_csv(\"../data/iclaims.csv\", header=0, names=[\"ds\", \"y\"], parse_dates=[\"ds\"])\n",
    "df[\"y\"] = np.log(df[\"y\"])\n",
    "df[\"t\"] = (df[\"ds\"] - df[\"ds\"].min()).dt.days\n",
    "x = df[\"t\"].values\n",
    "y = df[\"y\"].values\n",
    "\n",
    "\n",
    "# Split data into training and test sets\n",
    "split_index = -20  # Last 20 time periods\n",
    "x_train = x[:split_index]\n",
    "y_train = y[:split_index]\n",
    "x_test = x[split_index:]\n",
    "y_test = y[split_index:]\n",
    "\n",
    "# Partition training data\n",
    "data_sequence = partition_data(x_train, y_train, num_partitions=5)\n",
    "\n"
   ]
  },
  {
   "cell_type": "markdown",
   "metadata": {},
   "source": [
    "# Run SMC algo"
   ]
  },
  {
   "cell_type": "code",
   "execution_count": 2,
   "metadata": {},
   "outputs": [
    {
     "name": "stdout",
     "output_type": "stream",
     "text": [
      "Time step 1/5\n",
      "Effective Sample Size (ESS): 1.00\n",
      "Resampling particles...\n"
     ]
    },
    {
     "ename": "AttributeError",
     "evalue": "module 'numpyro' has no attribute 'random'",
     "output_type": "error",
     "traceback": [
      "\u001b[1;31m---------------------------------------------------------------------------\u001b[0m",
      "\u001b[1;31mAttributeError\u001b[0m                            Traceback (most recent call last)",
      "Cell \u001b[1;32mIn[2], line 7\u001b[0m\n\u001b[0;32m      2\u001b[0m smc \u001b[38;5;241m=\u001b[39m SMCStructureLearning(\n\u001b[0;32m      3\u001b[0m     num_particles\u001b[38;5;241m=\u001b[39m\u001b[38;5;241m1000\u001b[39m, num_rejuvenation_steps\u001b[38;5;241m=\u001b[39m\u001b[38;5;241m3\u001b[39m, max_kernel_depth\u001b[38;5;241m=\u001b[39m\u001b[38;5;241m4\u001b[39m\n\u001b[0;32m      4\u001b[0m )\n\u001b[0;32m      6\u001b[0m \u001b[38;5;66;03m# Run SMC on training data\u001b[39;00m\n\u001b[1;32m----> 7\u001b[0m \u001b[43msmc\u001b[49m\u001b[38;5;241;43m.\u001b[39;49m\u001b[43mrun_smc\u001b[49m\u001b[43m(\u001b[49m\u001b[43mdata_sequence\u001b[49m\u001b[43m)\u001b[49m\n\u001b[0;32m      9\u001b[0m \u001b[38;5;66;03m# Collect particles and weights\u001b[39;00m\n\u001b[0;32m     10\u001b[0m particles \u001b[38;5;241m=\u001b[39m smc\u001b[38;5;241m.\u001b[39mparticles\n",
      "File \u001b[1;32mc:\\Users\\taylo\\Documents\\Work\\study\\test\\AutoGPy\\example\\..\\main\\AutoGPy.py:417\u001b[0m, in \u001b[0;36mSMCStructureLearning.run_smc\u001b[1;34m(self, data_sequence)\u001b[0m\n\u001b[0;32m    414\u001b[0m     \u001b[38;5;28mself\u001b[39m\u001b[38;5;241m.\u001b[39mresample_particles()\n\u001b[0;32m    416\u001b[0m \u001b[38;5;66;03m# Rejuvenate particles\u001b[39;00m\n\u001b[1;32m--> 417\u001b[0m \u001b[38;5;28;43mself\u001b[39;49m\u001b[38;5;241;43m.\u001b[39;49m\u001b[43mrejuvenate_particles\u001b[49m\u001b[43m(\u001b[49m\u001b[43mx_t\u001b[49m\u001b[43m,\u001b[49m\u001b[43m \u001b[49m\u001b[43my_t\u001b[49m\u001b[43m)\u001b[49m\n\u001b[0;32m    419\u001b[0m \u001b[38;5;66;03m# Normalize weights after rejuvenation\u001b[39;00m\n\u001b[0;32m    420\u001b[0m total_weight \u001b[38;5;241m=\u001b[39m \u001b[38;5;28msum\u001b[39m(\u001b[38;5;28mself\u001b[39m\u001b[38;5;241m.\u001b[39mweights)\n",
      "File \u001b[1;32mc:\\Users\\taylo\\Documents\\Work\\study\\test\\AutoGPy\\example\\..\\main\\AutoGPy.py:203\u001b[0m, in \u001b[0;36mSMCStructureLearning.rejuvenate_particles\u001b[1;34m(self, x, y)\u001b[0m\n\u001b[0;32m    200\u001b[0m \u001b[38;5;28;01mfor\u001b[39;00m particle \u001b[38;5;129;01min\u001b[39;00m \u001b[38;5;28mself\u001b[39m\u001b[38;5;241m.\u001b[39mparticles:\n\u001b[0;32m    201\u001b[0m     \u001b[38;5;66;03m# Apply MCMC moves to kernel structure and parameters\u001b[39;00m\n\u001b[0;32m    202\u001b[0m     \u001b[38;5;28;01mfor\u001b[39;00m _ \u001b[38;5;129;01min\u001b[39;00m \u001b[38;5;28mrange\u001b[39m(\u001b[38;5;28mself\u001b[39m\u001b[38;5;241m.\u001b[39mnum_rejuvenation_steps):\n\u001b[1;32m--> 203\u001b[0m         \u001b[38;5;28;43mself\u001b[39;49m\u001b[38;5;241;43m.\u001b[39;49m\u001b[43mmcmc_move\u001b[49m\u001b[43m(\u001b[49m\u001b[43mparticle\u001b[49m\u001b[43m,\u001b[49m\u001b[43m \u001b[49m\u001b[43mx\u001b[49m\u001b[43m,\u001b[49m\u001b[43m \u001b[49m\u001b[43my\u001b[49m\u001b[43m)\u001b[49m\n",
      "File \u001b[1;32mc:\\Users\\taylo\\Documents\\Work\\study\\test\\AutoGPy\\example\\..\\main\\AutoGPy.py:236\u001b[0m, in \u001b[0;36mSMCStructureLearning.mcmc_move\u001b[1;34m(self, particle, x, y)\u001b[0m\n\u001b[0;32m    233\u001b[0m particle\u001b[38;5;241m.\u001b[39mkernel \u001b[38;5;241m=\u001b[39m new_kernel\n\u001b[0;32m    235\u001b[0m \u001b[38;5;66;03m# Update parameters using HMC\u001b[39;00m\n\u001b[1;32m--> 236\u001b[0m particle\u001b[38;5;241m.\u001b[39mkernel \u001b[38;5;241m=\u001b[39m \u001b[38;5;28;43mself\u001b[39;49m\u001b[38;5;241;43m.\u001b[39;49m\u001b[43mhmc_update\u001b[49m\u001b[43m(\u001b[49m\u001b[43mparticle\u001b[49m\u001b[38;5;241;43m.\u001b[39;49m\u001b[43mkernel\u001b[49m\u001b[43m,\u001b[49m\u001b[43m \u001b[49m\u001b[43mx\u001b[49m\u001b[43m,\u001b[49m\u001b[43m \u001b[49m\u001b[43my\u001b[49m\u001b[43m)\u001b[49m\n",
      "File \u001b[1;32mc:\\Users\\taylo\\Documents\\Work\\study\\test\\AutoGPy\\example\\..\\main\\AutoGPy.py:376\u001b[0m, in \u001b[0;36mSMCStructureLearning.hmc_update\u001b[1;34m(self, kernel, x, y)\u001b[0m\n\u001b[0;32m    374\u001b[0m nuts_kernel \u001b[38;5;241m=\u001b[39m NUTS(model)\n\u001b[0;32m    375\u001b[0m mcmc \u001b[38;5;241m=\u001b[39m MCMC(nuts_kernel, num_warmup\u001b[38;5;241m=\u001b[39m\u001b[38;5;241m200\u001b[39m, num_samples\u001b[38;5;241m=\u001b[39m\u001b[38;5;241m100\u001b[39m)  \u001b[38;5;66;03m# Increase these numbers\u001b[39;00m\n\u001b[1;32m--> 376\u001b[0m mcmc\u001b[38;5;241m.\u001b[39mrun(\u001b[43mnumpyro\u001b[49m\u001b[38;5;241;43m.\u001b[39;49m\u001b[43mrandom\u001b[49m\u001b[38;5;241m.\u001b[39mPRNGKey(\u001b[38;5;241m0\u001b[39m))\n\u001b[0;32m    378\u001b[0m samples \u001b[38;5;241m=\u001b[39m mcmc\u001b[38;5;241m.\u001b[39mget_samples()\n\u001b[0;32m    379\u001b[0m \u001b[38;5;66;03m# Extract the parameters and update the kernel\u001b[39;00m\n",
      "\u001b[1;31mAttributeError\u001b[0m: module 'numpyro' has no attribute 'random'"
     ]
    }
   ],
   "source": [
    "# Initialize SMC\n",
    "smc = SMCStructureLearning(\n",
    "    num_particles=1000, num_rejuvenation_steps=3, max_kernel_depth=4\n",
    ")\n",
    "\n",
    "# Run SMC on training data\n",
    "smc.run_smc(data_sequence)\n",
    "\n",
    "# Collect particles and weights\n",
    "particles = smc.particles\n",
    "weights = smc.weights\n",
    "\n",
    "# Find the particle with the highest weight\n",
    "best_particle = particles[np.argmax(weights)]\n",
    "\n",
    "print(\"Best Kernel Structure:\")\n",
    "print(best_particle.kernel)\n",
    "print(\"Best Kernel Parameters:\")\n",
    "print(best_particle.kernel.get_params())\n",
    "\n",
    "# Assign best_kernel\n",
    "best_kernel = best_particle.kernel\n",
    "\n",
    "# Plot the results with training and test data\n",
    "plot_results_with_test(x_train, y_train, x_test, y_test, best_kernel)\n",
    "\n",
    "# Evaluate on test data\n",
    "mu_test, std_test = compute_gp_posterior(best_kernel, x_train, y_train, x_test)\n",
    "\n",
    "# Compute MSE on test data\n",
    "mse_test = mean_squared_error(y_test, mu_test)\n",
    "\n",
    "print(f\"Test MSE: {mse_test:.4f}\")"
   ]
  },
  {
   "cell_type": "code",
   "execution_count": null,
   "metadata": {},
   "outputs": [],
   "source": []
  }
 ],
 "metadata": {
  "kernelspec": {
   "display_name": ".venv",
   "language": "python",
   "name": "python3"
  },
  "language_info": {
   "codemirror_mode": {
    "name": "ipython",
    "version": 3
   },
   "file_extension": ".py",
   "mimetype": "text/x-python",
   "name": "python",
   "nbconvert_exporter": "python",
   "pygments_lexer": "ipython3",
   "version": "3.11.0"
  }
 },
 "nbformat": 4,
 "nbformat_minor": 2
}
